{
 "cells": [
  {
   "cell_type": "markdown",
   "id": "14faf3d3",
   "metadata": {},
   "source": [
    "# Probabilistic Dynamic Programming Approach For Car Parking"
   ]
  },
  {
   "cell_type": "markdown",
   "id": "36ccb505",
   "metadata": {},
   "source": [
    "You can find the proposed solution to the parking problem in the book. This notebook was created to understand how this solution works. It didn't be implemented for a huge space, because it's computationally heavy and it's not the focus of this project."
   ]
  },
  {
   "cell_type": "code",
   "execution_count": 1,
   "id": "2a4a2c09",
   "metadata": {},
   "outputs": [
    {
     "name": "stdout",
     "output_type": "stream",
     "text": [
      "[0, 0, 0, 0, 0, 0, 0, 3]\n",
      "[0, 0, 0, 0, 0, 0, 0, 10]\n",
      "[0, 0, 0, 0, 0, 0, 2, 3]\n",
      "[0, 0, 0, 0, 0, 0, 9.3, 10]\n",
      "[0, 0, 0, 0, 0, 1, 2, 3]\n",
      "[0, 0, 0, 0, 0, 8.57, 9.3, 10]\n",
      "[0, 0, 0, 0, 0, 1, 2, 3]\n",
      "[0, 0, 0, 0, 8.57, 8.57, 9.3, 10]\n",
      "[0, 0, 0, 1, 0, 1, 2, 3]\n",
      "[0, 0, 0, 8.57, 8.57, 8.57, 9.3, 10]\n",
      "[0, 0, 2, 1, 0, 1, 2, 3]\n",
      "[0, 0, 7.813, 8.57, 8.57, 8.57, 9.3, 10]\n",
      "[0, 3, 2, 1, 0, 1, 2, 3]\n",
      "[0, 7.2317, 7.813, 8.57, 8.57, 8.57, 9.3, 10]\n",
      "[4, 3, 2, 1, 0, 1, 2, 3]\n",
      "[6.80853, 7.2317, 7.813, 8.57, 8.57, 8.57, 9.3, 10]\n",
      "Parking Policy: [1, 1, 1, 1, 1, 1, 1, 0]\n"
     ]
    }
   ],
   "source": [
    "import math\n",
    "\n",
    "def find_parking(P, M):\n",
    "    # p includes the probability of the parking space\n",
    "    \n",
    "    n = len(P)\n",
    "    \n",
    "    #specify the target to calculate the cost, it should be an integer, can be middle of the spaces\n",
    "    target_index = len(P)//2\n",
    "\n",
    "    # Initialize the costs list to keep minimum costs\n",
    "    f_e = [0] * (n)  # Cost table\n",
    "    f_o = [0] * (n)\n",
    "    policy = [0] * (n)\n",
    "    #policy = [0] * (n + 1)  # Policy table\n",
    "\n",
    "    # M is the cost of not finding a parking space, get this at the end of the parking space\n",
    "\n",
    "    # Dynamic programming loop\n",
    "    for t in range(n - 1, -1, -1):\n",
    "        \n",
    "        distance = abs(target_index-t) #give cost according to the closeness to the target\n",
    "        \n",
    "        if t == (n - 1): #you're in last space or not\n",
    "            #you're in last parking space\n",
    "            f_e[t] = distance\n",
    "            f_o[t] = M\n",
    "            \n",
    "        else: \n",
    "            \n",
    "            f_o[t] = P[t+1]*f_e[t+1] + (1 - P[t+1]) * f_o[t+1]\n",
    "            f_e[t] = min(distance, P[t+1]*f_e[t+1] + (1 - P[t+1]) * f_o[t+1])\n",
    "                \n",
    "            if distance < f_o[t]:\n",
    "                policy[t]=1\n",
    "\n",
    "        print(f_e)\n",
    "        print(f_o)\n",
    "    return policy\n",
    "\n",
    "# example usage\n",
    "P = [0.9, 0.1, 0.1, 0.1, 0, 0, 0.1, 0.1]  # example probability distribution #park olma ihtimali\n",
    "M = 10  # example cost of not finding a parking space\n",
    "\n",
    "policy = find_parking(P, M)\n",
    "print(\"Parking Policy:\", policy)"
   ]
  },
  {
   "cell_type": "markdown",
   "id": "6cf1256e",
   "metadata": {},
   "source": [
    "As a result, because in most of the places, a probability is 0.1, the policy forces to park in early places."
   ]
  },
  {
   "cell_type": "markdown",
   "id": "64c4f894",
   "metadata": {},
   "source": [
    "**THANK YOU!**"
   ]
  }
 ],
 "metadata": {
  "kernelspec": {
   "display_name": "Python 3 (ipykernel)",
   "language": "python",
   "name": "python3"
  },
  "language_info": {
   "codemirror_mode": {
    "name": "ipython",
    "version": 3
   },
   "file_extension": ".py",
   "mimetype": "text/x-python",
   "name": "python",
   "nbconvert_exporter": "python",
   "pygments_lexer": "ipython3",
   "version": "3.9.12"
  }
 },
 "nbformat": 4,
 "nbformat_minor": 5
}
