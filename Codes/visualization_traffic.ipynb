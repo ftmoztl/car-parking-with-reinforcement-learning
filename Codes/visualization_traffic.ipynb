{
 "cells": [
  {
   "cell_type": "markdown",
   "metadata": {},
   "source": [
    "# VISUALIZATION OF CAR MOVEMENT"
   ]
  },
  {
   "cell_type": "markdown",
   "metadata": {},
   "source": [
    "In this notebook, by using the pillow package of the python, the agent movements are visualized. \n",
    "\n",
    "The 'draw_area' function is created to visualize roads, agent, parking lots, and target place.\n",
    "\n",
    "* The target place is shown by the red rectangle\n",
    "* The target parking space nearest to the target place is shown by a red 'X'\n",
    "* Other available parking lots are shown by green 'X'\n",
    "* The starting position of the agent is shown by a blue unfilled rectangle\n",
    "* The current position of the agent is shown by a blue filled rectangle"
   ]
  },
  {
   "cell_type": "code",
   "execution_count": 3,
   "metadata": {},
   "outputs": [],
   "source": [
    "from environments import Field_1, Field_2, Field_3, Field_4, Field_5, Field_6, Field_7, Field_4_tr\n",
    "import matplotlib.pyplot as plt\n",
    "import math\n",
    "import numpy as np\n",
    "import random"
   ]
  },
  {
   "cell_type": "code",
   "execution_count": 12,
   "metadata": {
    "pycharm": {
     "is_executing": true
    }
   },
   "outputs": [],
   "source": [
    "from PIL import Image, ImageDraw, ImageFont\n",
    "\n",
    "def draw_area(start_position, target_position, parking_lot_coor, current_location):\n",
    "    image = Image.new(\"RGB\", (200, 200), \"white\") # create white canvas\n",
    "    draw = ImageDraw.Draw(image)\n",
    "    \n",
    "    # visualize target place\n",
    "    draw.text((12, 25), \"Target\", fill=\"red\")\n",
    "    draw.rectangle((20,40,40,60), fill=\"red\")\n",
    "    \n",
    "    # draw roads\n",
    "    draw.line([(50, 0), (50, 70), (0, 70)], width=2, fill=\"black\", joint=\"curve\")\n",
    "    draw.line([(0, 90), (50, 90), (50, 120), (0,120)], width=2, fill=\"black\", joint=\"curve\")\n",
    "    draw.line([(0, 140), (50, 140), (50, 200)], width=2, fill=\"black\", joint=\"curve\")\n",
    "    draw.line([(70, 0), (70, 70), (110, 70),(110,0)], width=2, fill=\"black\", joint=\"curve\")\n",
    "    draw.line([(70, 90), (70, 120), (110, 120),(110,90),(70, 90)], width=2, fill=\"black\", joint=\"curve\")\n",
    "    draw.line([(70, 200), (70, 140), (110, 140),(110,200)], width=2, fill=\"black\", joint=\"curve\")\n",
    "    draw.line([(130, 0), (130, 70), (200, 70)], width=2, fill=\"black\", joint=\"curve\")\n",
    "    draw.line([(200, 90), (130, 90), (130, 120),(200,120)], width=2, fill=\"black\", joint=\"curve\")\n",
    "    draw.line([(200, 140), (130, 140), (130, 200)], width=2, fill=\"black\", joint=\"curve\")\n",
    "\n",
    "    # show available parking lots with green 'X'\n",
    "    for park in parking_lot_coor:\n",
    "        draw.text((park[0]*10, park[1]*10), \"X\", fill=\"green\")\n",
    "\n",
    "    # show target parking lot with red 'X'\n",
    "    target_position = list(target_position)\n",
    "    draw.text((target_position[0]*10, target_position[1]*10), \"X\", fill=\"red\")\n",
    "\n",
    "    # show starting position of the agent with blue unfilled rectangle\n",
    "    start_position = list(start_position)\n",
    "    draw.rectangle((start_position[0]*10,start_position[1]*10,(start_position[0]*10)+10,(start_position[1]*10)+10), fill=\"white\", outline=\"blue\")\n",
    "\n",
    "    # show current position of the agent with blue filled rectangle\n",
    "    current_location = list(current_location)\n",
    "    draw.rectangle((current_location[0]*10,current_location[1]*10,(current_location[0]*10)+10,(current_location[1]*10)+10), fill=\"blue\")\n",
    "\n",
    "    #image.show()\n",
    "    display(image)"
   ]
  },
  {
   "cell_type": "markdown",
   "metadata": {},
   "source": [
    "The decided optimized environment \"Field_4\" is used to visualize the agent below.\n",
    "\n",
    "Only the last episode of the agent is shown.\n",
    "\n",
    "The 20x20 coordinate system is used to visualize with the following constants:\n",
    "* Size: 20 \n",
    "* Starting position: (19, 12) # start agent from this position\n",
    "* Target position: (5, 5)  # give target location to park\n",
    "* Parking lots positions: [[12, 16], [9, 12], [14, 7], [5, 5]] \n",
    "\n",
    "You can play with the following to see agent movement whenever you want. The 'draw_area' only suitable for 20x20 coordinate sytem with 2 vertical and 2 horizontal road. "
   ]
  },
  {
   "cell_type": "code",
   "execution_count": 13,
   "metadata": {},
   "outputs": [
    {
     "name": "stdout",
     "output_type": "stream",
     "text": [
      "---------STEP-1---------\n"
     ]
    },
    {
     "data": {
      "image/png": "[encoded data removed]",
      "text/plain": [
       "<PIL.Image.Image image mode=RGB size=200x200 at 0x10376EB50>"
      ]
     },
     "metadata": {},
     "output_type": "display_data"
    },
    {
     "name": "stdout",
     "output_type": "stream",
     "text": [
      "---------STEP-2---------\n"
     ]
    },
    {
     "data": {
      "image/png": "[encoded data removed]",
      "text/plain": [
       "<PIL.Image.Image image mode=RGB size=200x200 at 0x103DB6FD0>"
      ]
     },
     "metadata": {},
     "output_type": "display_data"
    },
    {
     "name": "stdout",
     "output_type": "stream",
     "text": [
      "---------STEP-3---------\n"
     ]
    },
    {
     "data": {
      "image/png": "[encoded data removed]",
      "text/plain": [
       "<PIL.Image.Image image mode=RGB size=200x200 at 0x106287C40>"
      ]
     },
     "metadata": {},
     "output_type": "display_data"
    },
    {
     "name": "stdout",
     "output_type": "stream",
     "text": [
      "---------STEP-4---------\n"
     ]
    },
    {
     "data": {
      "image/png": "[encoded data removed]",
      "text/plain": [
       "<PIL.Image.Image image mode=RGB size=200x200 at 0x10376EB50>"
      ]
     },
     "metadata": {},
     "output_type": "display_data"
    },
    {
     "name": "stdout",
     "output_type": "stream",
     "text": [
      "---------STEP-5---------\n"
     ]
    },
    {
     "data": {
      "image/png": "[encoded data removed]",
      "text/plain": [
       "<PIL.Image.Image image mode=RGB size=200x200 at 0x106287430>"
      ]
     },
     "metadata": {},
     "output_type": "display_data"
    },
    {
     "name": "stdout",
     "output_type": "stream",
     "text": [
      "---------STEP-6---------\n"
     ]
    },
    {
     "data": {
      "image/png": "[encoded data removed]",
      "text/plain": [
       "<PIL.Image.Image image mode=RGB size=200x200 at 0x1062FED60>"
      ]
     },
     "metadata": {},
     "output_type": "display_data"
    },
    {
     "name": "stdout",
     "output_type": "stream",
     "text": [
      "---------STEP-7---------\n"
     ]
    },
    {
     "data": {
      "image/png": "[encoded data removed]",
      "text/plain": [
       "<PIL.Image.Image image mode=RGB size=200x200 at 0x1062FEEB0>"
      ]
     },
     "metadata": {},
     "output_type": "display_data"
    },
    {
     "name": "stdout",
     "output_type": "stream",
     "text": [
      "---------STEP-8---------\n"
     ]
    },
    {
     "data": {
      "image/png": "[encoded data removed]",
      "text/plain": [
       "<PIL.Image.Image image mode=RGB size=200x200 at 0x1062FED60>"
      ]
     },
     "metadata": {},
     "output_type": "display_data"
    },
    {
     "name": "stdout",
     "output_type": "stream",
     "text": [
      "---------STEP-9---------\n"
     ]
    },
    {
     "data": {
      "image/png": "[encoded data removed]",
      "text/plain": [
       "<PIL.Image.Image image mode=RGB size=200x200 at 0x1062FED30>"
      ]
     },
     "metadata": {},
     "output_type": "display_data"
    },
    {
     "name": "stdout",
     "output_type": "stream",
     "text": [
      "---------STEP-10---------\n"
     ]
    },
    {
     "data": {
      "image/png": "[encoded data removed]",
      "text/plain": [
       "<PIL.Image.Image image mode=RGB size=200x200 at 0x1062FECA0>"
      ]
     },
     "metadata": {},
     "output_type": "display_data"
    },
    {
     "name": "stdout",
     "output_type": "stream",
     "text": [
      "---------STEP-11---------\n"
     ]
    },
    {
     "data": {
      "image/png": "[encoded data removed]",
      "text/plain": [
       "<PIL.Image.Image image mode=RGB size=200x200 at 0x1062FED60>"
      ]
     },
     "metadata": {},
     "output_type": "display_data"
    },
    {
     "name": "stdout",
     "output_type": "stream",
     "text": [
      "---------STEP-12---------\n"
     ]
    },
    {
     "data": {
      "image/png": "[encoded data removed]",
      "text/plain": [
       "<PIL.Image.Image image mode=RGB size=200x200 at 0x1062FED90>"
      ]
     },
     "metadata": {},
     "output_type": "display_data"
    },
    {
     "name": "stdout",
     "output_type": "stream",
     "text": [
      "---------STEP-13---------\n"
     ]
    },
    {
     "data": {
      "image/png": "[encoded data removed]",
      "text/plain": [
       "<PIL.Image.Image image mode=RGB size=200x200 at 0x1062FECA0>"
      ]
     },
     "metadata": {},
     "output_type": "display_data"
    },
    {
     "name": "stdout",
     "output_type": "stream",
     "text": [
      "---------STEP-14---------\n"
     ]
    },
    {
     "data": {
      "image/png": "[encoded data removed]",
      "text/plain": [
       "<PIL.Image.Image image mode=RGB size=200x200 at 0x10627ACA0>"
      ]
     },
     "metadata": {},
     "output_type": "display_data"
    },
    {
     "name": "stdout",
     "output_type": "stream",
     "text": [
      "---------STEP-15---------\n"
     ]
    },
    {
     "data": {
      "image/png": "[encoded data removed]",
      "text/plain": [
       "<PIL.Image.Image image mode=RGB size=200x200 at 0x1062FED60>"
      ]
     },
     "metadata": {},
     "output_type": "display_data"
    },
    {
     "name": "stdout",
     "output_type": "stream",
     "text": [
      "---------STEP-16---------\n"
     ]
    },
    {
     "data": {
      "image/png": "[encoded data removed]",
      "text/plain": [
       "<PIL.Image.Image image mode=RGB size=200x200 at 0x10376EB50>"
      ]
     },
     "metadata": {},
     "output_type": "display_data"
    },
    {
     "name": "stdout",
     "output_type": "stream",
     "text": [
      "---------STEP-17---------\n"
     ]
    },
    {
     "data": {
      "image/png": "[encoded data removed]",
      "text/plain": [
       "<PIL.Image.Image image mode=RGB size=200x200 at 0x10627ACA0>"
      ]
     },
     "metadata": {},
     "output_type": "display_data"
    },
    {
     "name": "stdout",
     "output_type": "stream",
     "text": [
      "---------STEP-18---------\n"
     ]
    },
    {
     "data": {
      "image/png": "[encoded data removed]",
      "text/plain": [
       "<PIL.Image.Image image mode=RGB size=200x200 at 0x10376F730>"
      ]
     },
     "metadata": {},
     "output_type": "display_data"
    },
    {
     "name": "stdout",
     "output_type": "stream",
     "text": [
      "---------STEP-19---------\n"
     ]
    },
    {
     "data": {
      "image/png": "[encoded data removed]",
      "text/plain": [
       "<PIL.Image.Image image mode=RGB size=200x200 at 0x1062A42B0>"
      ]
     },
     "metadata": {},
     "output_type": "display_data"
    },
    {
     "name": "stdout",
     "output_type": "stream",
     "text": [
      "---------STEP-20---------\n"
     ]
    },
    {
     "data": {
      "image/png": "[encoded data removed]",
      "text/plain": [
       "<PIL.Image.Image image mode=RGB size=200x200 at 0x103B87CD0>"
      ]
     },
     "metadata": {},
     "output_type": "display_data"
    },
    {
     "name": "stdout",
     "output_type": "stream",
     "text": [
      "---------STEP-21---------\n"
     ]
    },
    {
     "data": {
      "image/png": "[encoded data removed]",
      "text/plain": [
       "<PIL.Image.Image image mode=RGB size=200x200 at 0x1062A42E0>"
      ]
     },
     "metadata": {},
     "output_type": "display_data"
    },
    {
     "name": "stdout",
     "output_type": "stream",
     "text": [
      "---------STEP-22---------\n"
     ]
    },
    {
     "data": {
      "image/png": "[encoded data removed]",
      "text/plain": [
       "<PIL.Image.Image image mode=RGB size=200x200 at 0x1062FED90>"
      ]
     },
     "metadata": {},
     "output_type": "display_data"
    },
    {
     "name": "stdout",
     "output_type": "stream",
     "text": [
      "---------STEP-23---------\n"
     ]
    },
    {
     "data": {
      "image/png": "[encoded data removed]",
      "text/plain": [
       "<PIL.Image.Image image mode=RGB size=200x200 at 0x10376F640>"
      ]
     },
     "metadata": {},
     "output_type": "display_data"
    },
    {
     "name": "stdout",
     "output_type": "stream",
     "text": [
      "---------STEP-24---------\n"
     ]
    },
    {
     "data": {
      "image/png": "[encoded data removed]",
      "text/plain": [
       "<PIL.Image.Image image mode=RGB size=200x200 at 0x1062A42B0>"
      ]
     },
     "metadata": {},
     "output_type": "display_data"
    },
    {
     "name": "stdout",
     "output_type": "stream",
     "text": [
      "---------STEP-25---------\n"
     ]
    },
    {
     "data": {
      "image/png": "[encoded data removed]",
      "text/plain": [
       "<PIL.Image.Image image mode=RGB size=200x200 at 0x1062FED30>"
      ]
     },
     "metadata": {},
     "output_type": "display_data"
    },
    {
     "name": "stdout",
     "output_type": "stream",
     "text": [
      "---------STEP-26---------\n"
     ]
    },
    {
     "data": {
      "image/png": "[encoded data removed]",
      "text/plain": [
       "<PIL.Image.Image image mode=RGB size=200x200 at 0x10376F640>"
      ]
     },
     "metadata": {},
     "output_type": "display_data"
    },
    {
     "name": "stdout",
     "output_type": "stream",
     "text": [
      "---------STEP-27---------\n"
     ]
    },
    {
     "data": {
      "image/png": "[encoded data removed]",
      "text/plain": [
       "<PIL.Image.Image image mode=RGB size=200x200 at 0x1062A4D60>"
      ]
     },
     "metadata": {},
     "output_type": "display_data"
    },
    {
     "name": "stdout",
     "output_type": "stream",
     "text": [
      "---------STEP-28---------\n"
     ]
    },
    {
     "data": {
      "image/png": "[encoded data removed]",
      "text/plain": [
       "<PIL.Image.Image image mode=RGB size=200x200 at 0x103B87CD0>"
      ]
     },
     "metadata": {},
     "output_type": "display_data"
    },
    {
     "name": "stdout",
     "output_type": "stream",
     "text": [
      "---------STEP-29---------\n"
     ]
    },
    {
     "data": {
      "image/png": "[encoded data removed]",
      "text/plain": [
       "<PIL.Image.Image image mode=RGB size=200x200 at 0x103DB6FD0>"
      ]
     },
     "metadata": {},
     "output_type": "display_data"
    },
    {
     "name": "stdout",
     "output_type": "stream",
     "text": [
      "---------STEP-30---------\n"
     ]
    },
    {
     "data": {
      "image/png": "[encoded data removed]",
      "text/plain": [
       "<PIL.Image.Image image mode=RGB size=200x200 at 0x1062878E0>"
      ]
     },
     "metadata": {},
     "output_type": "display_data"
    },
    {
     "name": "stdout",
     "output_type": "stream",
     "text": [
      "---------STEP-31---------\n"
     ]
    },
    {
     "data": {
      "image/png": "[encoded data removed]",
      "text/plain": [
       "<PIL.Image.Image image mode=RGB size=200x200 at 0x1062A42B0>"
      ]
     },
     "metadata": {},
     "output_type": "display_data"
    },
    {
     "name": "stdout",
     "output_type": "stream",
     "text": [
      "---------STEP-32---------\n"
     ]
    },
    {
     "data": {
      "image/png": "[encoded data removed]",
      "text/plain": [
       "<PIL.Image.Image image mode=RGB size=200x200 at 0x1062878E0>"
      ]
     },
     "metadata": {},
     "output_type": "display_data"
    }
   ],
   "source": [
    "# learning...\n",
    "\n",
    "def reinforcement_q_visual(alpha, gamma):\n",
    "    # give constants\n",
    "    size = 20 # size of the canvas/coordination system\n",
    "    start_position = (19, 12) # start agent from this position\n",
    "    target_position = (5, 5)  # give target location to park\n",
    "    parking_lot_coor = [[12, 16], [9, 12], [14, 7], [5, 5]]  # give all empty parking space location #it should include the target\n",
    "    #target_position = (1, 12)\n",
    "    #parking_lot_coor = [[1, 12], [9, 12], [14, 7], [8, 7]]\n",
    "\n",
    "    # initialize environment\n",
    "    field = Field_4(size, start_position, target_position, parking_lot_coor)\n",
    "\n",
    "    # create number of states according to size\n",
    "    number_of_states = field.get_number_of_states()\n",
    "    number_of_actions = 5  # it's certain # left, right, up, down, park\n",
    "\n",
    "    # create empty q table\n",
    "    q_table = np.zeros((number_of_states, number_of_actions))\n",
    "\n",
    "    # determine hyperparameter\n",
    "    alpha = alpha # parameter to tune\n",
    "    gamma = gamma # parameter to tune\n",
    "    epsilon = 1 # start epsilon from 1\n",
    "    max_epsilon = 1\n",
    "    min_epsilon = 0.01\n",
    "    decay = 0.01  # use decay to balance exploration and exploitation\n",
    "\n",
    "    # give number of episodes\n",
    "    train_episodes = 1000\n",
    "\n",
    "    # keep the metrics to evaluate learning process\n",
    "    steps = [] # keep number of steps\n",
    "    target_or_not = [] # keep info of if the agent finds the target or park another location\n",
    "    training_rewards = [] # keep rewards\n",
    "\n",
    "    for episode in range(train_episodes):\n",
    "\n",
    "        # initialize env in the learning loop\n",
    "        field = Field_4(size, start_position, target_position, parking_lot_coor)\n",
    "        done = False # to finish the episode\n",
    "\n",
    "        step = 0\n",
    "        total_training_rewards = 0\n",
    "        \n",
    "        while not done:  # if done is true, finish the episode\n",
    "            state = field.get_state() # start with learning state of the agent\n",
    "\n",
    "            if random.uniform(0, 1) > epsilon:  # explore or exploit\n",
    "                action = np.argmax(q_table[state])  # exploit\n",
    "            else:\n",
    "                action = random.randint(0, 4)  # explore\n",
    "\n",
    "            reward, done = field.make_action(action)  # position can be change\n",
    "\n",
    "            total_training_rewards += reward # sum rewards\n",
    "\n",
    "            new_state = field.get_state()  # enter new state according to new position\n",
    "            new_state_max = np.max(q_table[new_state]) # learn which q value is max for the next state to calculate q value\n",
    "\n",
    "            # update q table\n",
    "            q_table[state, action] = (1 - alpha) * q_table[state, action] + alpha * (\n",
    "                        reward + gamma * new_state_max - q_table[state, action])\n",
    "\n",
    "            step = step + 1 # increase step value\n",
    "\n",
    "            # to learn the parking location whether is the target location or not\n",
    "            target_tf = False\n",
    "            if field.position == field.target_position:\n",
    "                target_tf = True\n",
    "\n",
    "            end_location = field.position # keep end location of this state to trace the\n",
    "\n",
    "            #if step%10==0:\n",
    "            if episode == train_episodes-1:\n",
    "                print(f\"---------STEP-{step}---------\")\n",
    "                draw_area(start_position, target_position, parking_lot_coor, field.position)\n",
    "\n",
    "        # cut down on exploration by reducing the epsilon\n",
    "        epsilon = min_epsilon + (max_epsilon - min_epsilon) * np.exp(-decay * episode)\n",
    "\n",
    "        # append all values of episodes to their list\n",
    "        steps.append(step)\n",
    "        target_or_not.append(target_tf)\n",
    "        training_rewards.append(total_training_rewards)\n",
    "\n",
    "    return np.mean(steps), np.mean(training_rewards), steps, target_or_not\n",
    "\n",
    "avg_steps, avg_rewards, steps, target_or_not = reinforcement_q_visual(alpha=0.1, gamma=0.6)\n",
    "\n"
   ]
  },
  {
   "cell_type": "markdown",
   "metadata": {},
   "source": [
    "# TRAFFIC IN THE ROAD"
   ]
  },
  {
   "cell_type": "markdown",
   "metadata": {},
   "source": [
    "In this section, the traffic in the environment is considered and a new environment \"Field_4_tr\" is created for this purpose. As you know, \"Field_4\" is chosen as a regular environment for this project. The regular and traffic environments are used to see the differences and how the agent acts. \n",
    "\n",
    "In the function of \"reinforcement_q_visual\", \"Field_4\" was used, in the function of \"reinforcement_q_visual_tr\", \"Field_4_tr\" was used. And all sizes, start_position, target_position, and parking_lot_coor are the same for these two q-learning processes, only the environment is different. \n",
    "\n",
    "As you can see below, the agent (blue rectangle) should park at the target(closest) parking place (red 'X'). So we expect the agent will go directly to the left to reach the target. But the road shown by the red arrow has lots of traffic. So with the environment \"Field_4_tr\" the agent decided not to go along the road with traffic, then it decided to go the road below. You can see the last path of the agents for each environment below.\n",
    "\n",
    "The learning in the regular environment was completed with **21** steps.\n",
    "The learning in the environment with traffic was completed with **29** steps."
   ]
  },
  {
   "attachments": {
    "traffic_road.png": {
     "image/png": "[encoded data removed]"
    }
   },
   "cell_type": "markdown",
   "metadata": {},
   "source": [
    "![traffic_road.png](attachment:traffic_road.png)"
   ]
  },
  {
   "cell_type": "code",
   "execution_count": 3,
   "metadata": {},
   "outputs": [
    {
     "name": "stdout",
     "output_type": "stream",
     "text": [
      "---------STEP-1---------\n"
     ]
    },
    {
     "data": {
      "image/png": "[encoded data removed]",
      "text/plain": [
       "<PIL.Image.Image image mode=RGB size=200x200 at 0x10864BC10>"
      ]
     },
     "metadata": {},
     "output_type": "display_data"
    },
    {
     "name": "stdout",
     "output_type": "stream",
     "text": [
      "---------STEP-2---------\n"
     ]
    },
    {
     "data": {
      "image/png": "[encoded data removed]",
      "text/plain": [
       "<PIL.Image.Image image mode=RGB size=200x200 at 0x10864C130>"
      ]
     },
     "metadata": {},
     "output_type": "display_data"
    },
    {
     "name": "stdout",
     "output_type": "stream",
     "text": [
      "---------STEP-3---------\n"
     ]
    },
    {
     "data": {
      "image/png": "[encoded data removed]",
      "text/plain": [
       "<PIL.Image.Image image mode=RGB size=200x200 at 0x10864C160>"
      ]
     },
     "metadata": {},
     "output_type": "display_data"
    },
    {
     "name": "stdout",
     "output_type": "stream",
     "text": [
      "---------STEP-4---------\n"
     ]
    },
    {
     "data": {
      "image/png": "[encoded data removed]",
      "text/plain": [
       "<PIL.Image.Image image mode=RGB size=200x200 at 0x10864BD60>"
      ]
     },
     "metadata": {},
     "output_type": "display_data"
    },
    {
     "name": "stdout",
     "output_type": "stream",
     "text": [
      "---------STEP-5---------\n"
     ]
    },
    {
     "data": {
      "image/png": "[encoded data removed]",
      "text/plain": [
       "<PIL.Image.Image image mode=RGB size=200x200 at 0x10864BD60>"
      ]
     },
     "metadata": {},
     "output_type": "display_data"
    },
    {
     "name": "stdout",
     "output_type": "stream",
     "text": [
      "---------STEP-6---------\n"
     ]
    },
    {
     "data": {
      "image/png": "[encoded data removed]",
      "text/plain": [
       "<PIL.Image.Image image mode=RGB size=200x200 at 0x10864BA90>"
      ]
     },
     "metadata": {},
     "output_type": "display_data"
    },
    {
     "name": "stdout",
     "output_type": "stream",
     "text": [
      "---------STEP-7---------\n"
     ]
    },
    {
     "data": {
      "image/png": "[encoded data removed]",
      "text/plain": [
       "<PIL.Image.Image image mode=RGB size=200x200 at 0x10864C160>"
      ]
     },
     "metadata": {},
     "output_type": "display_data"
    },
    {
     "name": "stdout",
     "output_type": "stream",
     "text": [
      "---------STEP-8---------\n"
     ]
    },
    {
     "data": {
      "image/png": "[encoded data removed]",
      "text/plain": [
       "<PIL.Image.Image image mode=RGB size=200x200 at 0x10864BC10>"
      ]
     },
     "metadata": {},
     "output_type": "display_data"
    },
    {
     "name": "stdout",
     "output_type": "stream",
     "text": [
      "---------STEP-9---------\n"
     ]
    },
    {
     "data": {
      "image/png": "[encoded data removed]",
      "text/plain": [
       "<PIL.Image.Image image mode=RGB size=200x200 at 0x10864C250>"
      ]
     },
     "metadata": {},
     "output_type": "display_data"
    },
    {
     "name": "stdout",
     "output_type": "stream",
     "text": [
      "---------STEP-10---------\n"
     ]
    },
    {
     "data": {
      "image/png": "[encoded data removed]",
      "text/plain": [
       "<PIL.Image.Image image mode=RGB size=200x200 at 0x10864C130>"
      ]
     },
     "metadata": {},
     "output_type": "display_data"
    },
    {
     "name": "stdout",
     "output_type": "stream",
     "text": [
      "---------STEP-11---------\n"
     ]
    },
    {
     "data": {
      "image/png": "[encoded data removed]",
      "text/plain": [
       "<PIL.Image.Image image mode=RGB size=200x200 at 0x10864B9A0>"
      ]
     },
     "metadata": {},
     "output_type": "display_data"
    },
    {
     "name": "stdout",
     "output_type": "stream",
     "text": [
      "---------STEP-12---------\n"
     ]
    },
    {
     "data": {
      "image/png": "[encoded data removed]",
      "text/plain": [
       "<PIL.Image.Image image mode=RGB size=200x200 at 0x10864BC10>"
      ]
     },
     "metadata": {},
     "output_type": "display_data"
    },
    {
     "name": "stdout",
     "output_type": "stream",
     "text": [
      "---------STEP-13---------\n"
     ]
    },
    {
     "data": {
      "image/png": "[encoded data removed]",
      "text/plain": [
       "<PIL.Image.Image image mode=RGB size=200x200 at 0x10864BA90>"
      ]
     },
     "metadata": {},
     "output_type": "display_data"
    },
    {
     "name": "stdout",
     "output_type": "stream",
     "text": [
      "---------STEP-14---------\n"
     ]
    },
    {
     "data": {
      "image/png": "[encoded data removed]",
      "text/plain": [
       "<PIL.Image.Image image mode=RGB size=200x200 at 0x10864C6D0>"
      ]
     },
     "metadata": {},
     "output_type": "display_data"
    },
    {
     "name": "stdout",
     "output_type": "stream",
     "text": [
      "---------STEP-15---------\n"
     ]
    },
    {
     "data": {
      "image/png": "[encoded data removed]",
      "text/plain": [
       "<PIL.Image.Image image mode=RGB size=200x200 at 0x10864C7C0>"
      ]
     },
     "metadata": {},
     "output_type": "display_data"
    },
    {
     "name": "stdout",
     "output_type": "stream",
     "text": [
      "---------STEP-16---------\n"
     ]
    },
    {
     "data": {
      "image/png": "[encoded data removed]",
      "text/plain": [
       "<PIL.Image.Image image mode=RGB size=200x200 at 0x10864B9A0>"
      ]
     },
     "metadata": {},
     "output_type": "display_data"
    },
    {
     "name": "stdout",
     "output_type": "stream",
     "text": [
      "---------STEP-17---------\n"
     ]
    },
    {
     "data": {
      "image/png": "[encoded data removed]",
      "text/plain": [
       "<PIL.Image.Image image mode=RGB size=200x200 at 0x10864BD60>"
      ]
     },
     "metadata": {},
     "output_type": "display_data"
    },
    {
     "name": "stdout",
     "output_type": "stream",
     "text": [
      "---------STEP-18---------\n"
     ]
    },
    {
     "data": {
      "image/png": "[encoded data removed]",
      "text/plain": [
       "<PIL.Image.Image image mode=RGB size=200x200 at 0x10864BAC0>"
      ]
     },
     "metadata": {},
     "output_type": "display_data"
    },
    {
     "name": "stdout",
     "output_type": "stream",
     "text": [
      "---------STEP-19---------\n"
     ]
    },
    {
     "data": {
      "image/png": "[encoded data removed]",
      "text/plain": [
       "<PIL.Image.Image image mode=RGB size=200x200 at 0x10864C250>"
      ]
     },
     "metadata": {},
     "output_type": "display_data"
    },
    {
     "name": "stdout",
     "output_type": "stream",
     "text": [
      "---------STEP-20---------\n"
     ]
    },
    {
     "data": {
      "image/png": "[encoded data removed]",
      "text/plain": [
       "<PIL.Image.Image image mode=RGB size=200x200 at 0x10864C0A0>"
      ]
     },
     "metadata": {},
     "output_type": "display_data"
    },
    {
     "name": "stdout",
     "output_type": "stream",
     "text": [
      "---------STEP-21---------\n"
     ]
    },
    {
     "data": {
      "image/png": "[encoded data removed]",
      "text/plain": [
       "<PIL.Image.Image image mode=RGB size=200x200 at 0x1085FBBB0>"
      ]
     },
     "metadata": {},
     "output_type": "display_data"
    }
   ],
   "source": [
    "# learning without traffic...\n",
    "\n",
    "def reinforcement_q_visual(alpha, gamma):\n",
    "    # give constants\n",
    "    size = 20 # size of the canvas/coordination system\n",
    "    start_position = (19, 7) # start agent from this position\n",
    "    target_position = (1, 7) # give target location to park\n",
    "    parking_lot_coor = [[1, 12], [9, 12], [8, 7], [1, 7]] # give all empty parking space location #it should include the target\n",
    "\n",
    "    # initialize environment\n",
    "    field = Field_4(size, start_position, target_position, parking_lot_coor)\n",
    "\n",
    "    # create number of states according to size\n",
    "    number_of_states = field.get_number_of_states()\n",
    "    number_of_actions = 5  # it's certain # left, right, up, down, park\n",
    "\n",
    "    # create empty q table\n",
    "    q_table = np.zeros((number_of_states, number_of_actions))\n",
    "\n",
    "    # determine hyperparameter\n",
    "    alpha = alpha # parameter to tune\n",
    "    gamma = gamma # parameter to tune\n",
    "    epsilon = 1 # start epsilon from 1\n",
    "    max_epsilon = 1\n",
    "    min_epsilon = 0.01\n",
    "    decay = 0.01  # use decay to balance exploration and exploitation\n",
    "\n",
    "    # give number of episodes\n",
    "    train_episodes = 1000\n",
    "\n",
    "    # keep the metrics to evaluate learning process\n",
    "    steps = [] # keep number of steps\n",
    "    target_or_not = [] # keep info of if the agent finds the target or park another location\n",
    "    training_rewards = [] # keep rewards\n",
    "\n",
    "    for episode in range(train_episodes):\n",
    "\n",
    "        # initialize env in the learning loop\n",
    "        field = Field_4(size, start_position, target_position, parking_lot_coor)\n",
    "        done = False # to finish the episode\n",
    "\n",
    "        step = 0\n",
    "        total_training_rewards = 0\n",
    "        \n",
    "        while not done:  # if done is true, finish the episode\n",
    "            state = field.get_state() # start with learning state of the agent\n",
    "\n",
    "            if random.uniform(0, 1) > epsilon:  # explore or exploit\n",
    "                action = np.argmax(q_table[state])  # exploit\n",
    "            else:\n",
    "                action = random.randint(0, 4)  # explore\n",
    "\n",
    "            reward, done = field.make_action(action)  # position can be change\n",
    "\n",
    "            total_training_rewards += reward # sum rewards\n",
    "\n",
    "            new_state = field.get_state()  # enter new state according to new position\n",
    "            new_state_max = np.max(q_table[new_state]) # learn which q value is max for the next state to calculate q value\n",
    "\n",
    "            # update q table\n",
    "            q_table[state, action] = (1 - alpha) * q_table[state, action] + alpha * (\n",
    "                        reward + gamma * new_state_max - q_table[state, action])\n",
    "\n",
    "            step = step + 1 # increase step value\n",
    "\n",
    "            # to learn the parking location whether is the target location or not\n",
    "            target_tf = False\n",
    "            if field.position == field.target_position:\n",
    "                target_tf = True\n",
    "\n",
    "            end_location = field.position # keep end location of this state to trace the\n",
    "\n",
    "            #if step%10==0:\n",
    "            if episode == train_episodes-1:\n",
    "                print(f\"---------STEP-{step}---------\")\n",
    "                draw_area(start_position, target_position, parking_lot_coor, field.position)\n",
    "\n",
    "        # cut down on exploration by reducing the epsilon\n",
    "        epsilon = min_epsilon + (max_epsilon - min_epsilon) * np.exp(-decay * episode)\n",
    "\n",
    "        # append all values of episodes to their list\n",
    "        steps.append(step)\n",
    "        target_or_not.append(target_tf)\n",
    "        training_rewards.append(total_training_rewards)\n",
    "\n",
    "    return np.mean(steps), np.mean(training_rewards), steps, target_or_not\n",
    "\n",
    "avg_steps, avg_rewards, steps, target_or_not = reinforcement_q_visual(alpha=0.1, gamma=0.6)\n",
    "\n"
   ]
  },
  {
   "cell_type": "code",
   "execution_count": 5,
   "metadata": {},
   "outputs": [
    {
     "name": "stdout",
     "output_type": "stream",
     "text": [
      "---------STEP-1---------\n"
     ]
    },
    {
     "data": {
      "image/png": "[encoded data removed]",
      "text/plain": [
       "<PIL.Image.Image image mode=RGB size=200x200 at 0x10864C580>"
      ]
     },
     "metadata": {},
     "output_type": "display_data"
    },
    {
     "name": "stdout",
     "output_type": "stream",
     "text": [
      "---------STEP-2---------\n"
     ]
    },
    {
     "data": {
      "image/png": "[encoded data removed]",
      "text/plain": [
       "<PIL.Image.Image image mode=RGB size=200x200 at 0x10A696EE0>"
      ]
     },
     "metadata": {},
     "output_type": "display_data"
    },
    {
     "name": "stdout",
     "output_type": "stream",
     "text": [
      "---------STEP-3---------\n"
     ]
    },
    {
     "data": {
      "image/png": "[encoded data removed]",
      "text/plain": [
       "<PIL.Image.Image image mode=RGB size=200x200 at 0x10864C3A0>"
      ]
     },
     "metadata": {},
     "output_type": "display_data"
    },
    {
     "name": "stdout",
     "output_type": "stream",
     "text": [
      "---------STEP-4---------\n"
     ]
    },
    {
     "data": {
      "image/png": "[encoded data removed]",
      "text/plain": [
       "<PIL.Image.Image image mode=RGB size=200x200 at 0x10864EB80>"
      ]
     },
     "metadata": {},
     "output_type": "display_data"
    },
    {
     "name": "stdout",
     "output_type": "stream",
     "text": [
      "---------STEP-5---------\n"
     ]
    },
    {
     "data": {
      "image/png": "[encoded data removed]",
      "text/plain": [
       "<PIL.Image.Image image mode=RGB size=200x200 at 0x1081D9FA0>"
      ]
     },
     "metadata": {},
     "output_type": "display_data"
    },
    {
     "name": "stdout",
     "output_type": "stream",
     "text": [
      "---------STEP-6---------\n"
     ]
    },
    {
     "data": {
      "image/png": "[encoded data removed]",
      "text/plain": [
       "<PIL.Image.Image image mode=RGB size=200x200 at 0x10A696EE0>"
      ]
     },
     "metadata": {},
     "output_type": "display_data"
    },
    {
     "name": "stdout",
     "output_type": "stream",
     "text": [
      "---------STEP-7---------\n"
     ]
    },
    {
     "data": {
      "image/png": "[encoded data removed]",
      "text/plain": [
       "<PIL.Image.Image image mode=RGB size=200x200 at 0x10864EA30>"
      ]
     },
     "metadata": {},
     "output_type": "display_data"
    },
    {
     "name": "stdout",
     "output_type": "stream",
     "text": [
      "---------STEP-8---------\n"
     ]
    },
    {
     "data": {
      "image/png": "[encoded data removed]",
      "text/plain": [
       "<PIL.Image.Image image mode=RGB size=200x200 at 0x10A696F70>"
      ]
     },
     "metadata": {},
     "output_type": "display_data"
    },
    {
     "name": "stdout",
     "output_type": "stream",
     "text": [
      "---------STEP-9---------\n"
     ]
    },
    {
     "data": {
      "image/png": "[encoded data removed]",
      "text/plain": [
       "<PIL.Image.Image image mode=RGB size=200x200 at 0x10A696EE0>"
      ]
     },
     "metadata": {},
     "output_type": "display_data"
    },
    {
     "name": "stdout",
     "output_type": "stream",
     "text": [
      "---------STEP-10---------\n"
     ]
    },
    {
     "data": {
      "image/png": "[encoded data removed]",
      "text/plain": [
       "<PIL.Image.Image image mode=RGB size=200x200 at 0x1085F7970>"
      ]
     },
     "metadata": {},
     "output_type": "display_data"
    },
    {
     "name": "stdout",
     "output_type": "stream",
     "text": [
      "---------STEP-11---------\n"
     ]
    },
    {
     "data": {
      "image/png": "[encoded data removed]",
      "text/plain": [
       "<PIL.Image.Image image mode=RGB size=200x200 at 0x1085F7DC0>"
      ]
     },
     "metadata": {},
     "output_type": "display_data"
    },
    {
     "name": "stdout",
     "output_type": "stream",
     "text": [
      "---------STEP-12---------\n"
     ]
    },
    {
     "data": {
      "image/png": "[encoded data removed]",
      "text/plain": [
       "<PIL.Image.Image image mode=RGB size=200x200 at 0x10864EA30>"
      ]
     },
     "metadata": {},
     "output_type": "display_data"
    },
    {
     "name": "stdout",
     "output_type": "stream",
     "text": [
      "---------STEP-13---------\n"
     ]
    },
    {
     "data": {
      "image/png": "[encoded data removed]",
      "text/plain": [
       "<PIL.Image.Image image mode=RGB size=200x200 at 0x10864E8E0>"
      ]
     },
     "metadata": {},
     "output_type": "display_data"
    },
    {
     "name": "stdout",
     "output_type": "stream",
     "text": [
      "---------STEP-14---------\n"
     ]
    },
    {
     "data": {
      "image/png": "[encoded data removed]",
      "text/plain": [
       "<PIL.Image.Image image mode=RGB size=200x200 at 0x10864E610>"
      ]
     },
     "metadata": {},
     "output_type": "display_data"
    },
    {
     "name": "stdout",
     "output_type": "stream",
     "text": [
      "---------STEP-15---------\n"
     ]
    },
    {
     "data": {
      "image/png": "[encoded data removed]",
      "text/plain": [
       "<PIL.Image.Image image mode=RGB size=200x200 at 0x10A696F70>"
      ]
     },
     "metadata": {},
     "output_type": "display_data"
    },
    {
     "name": "stdout",
     "output_type": "stream",
     "text": [
      "---------STEP-16---------\n"
     ]
    },
    {
     "data": {
      "image/png": "[encoded data removed]",
      "text/plain": [
       "<PIL.Image.Image image mode=RGB size=200x200 at 0x10864C580>"
      ]
     },
     "metadata": {},
     "output_type": "display_data"
    },
    {
     "name": "stdout",
     "output_type": "stream",
     "text": [
      "---------STEP-17---------\n"
     ]
    },
    {
     "data": {
      "image/png": "[encoded data removed]",
      "text/plain": [
       "<PIL.Image.Image image mode=RGB size=200x200 at 0x10864E910>"
      ]
     },
     "metadata": {},
     "output_type": "display_data"
    },
    {
     "name": "stdout",
     "output_type": "stream",
     "text": [
      "---------STEP-18---------\n"
     ]
    },
    {
     "data": {
      "image/png": "[encoded data removed]",
      "text/plain": [
       "<PIL.Image.Image image mode=RGB size=200x200 at 0x10864C790>"
      ]
     },
     "metadata": {},
     "output_type": "display_data"
    },
    {
     "name": "stdout",
     "output_type": "stream",
     "text": [
      "---------STEP-19---------\n"
     ]
    },
    {
     "data": {
      "image/png": "[encoded data removed]",
      "text/plain": [
       "<PIL.Image.Image image mode=RGB size=200x200 at 0x10864C4C0>"
      ]
     },
     "metadata": {},
     "output_type": "display_data"
    },
    {
     "name": "stdout",
     "output_type": "stream",
     "text": [
      "---------STEP-20---------\n"
     ]
    },
    {
     "data": {
      "image/png": "[encoded data removed]",
      "text/plain": [
       "<PIL.Image.Image image mode=RGB size=200x200 at 0x10864E8E0>"
      ]
     },
     "metadata": {},
     "output_type": "display_data"
    },
    {
     "name": "stdout",
     "output_type": "stream",
     "text": [
      "---------STEP-21---------\n"
     ]
    },
    {
     "data": {
      "image/png": "[encoded data removed]",
      "text/plain": [
       "<PIL.Image.Image image mode=RGB size=200x200 at 0x10864E7F0>"
      ]
     },
     "metadata": {},
     "output_type": "display_data"
    },
    {
     "name": "stdout",
     "output_type": "stream",
     "text": [
      "---------STEP-22---------\n"
     ]
    },
    {
     "data": {
      "image/png": "[encoded data removed]",
      "text/plain": [
       "<PIL.Image.Image image mode=RGB size=200x200 at 0x10864E7F0>"
      ]
     },
     "metadata": {},
     "output_type": "display_data"
    },
    {
     "name": "stdout",
     "output_type": "stream",
     "text": [
      "---------STEP-23---------\n"
     ]
    },
    {
     "data": {
      "image/png": "[encoded data removed]",
      "text/plain": [
       "<PIL.Image.Image image mode=RGB size=200x200 at 0x10864C4C0>"
      ]
     },
     "metadata": {},
     "output_type": "display_data"
    },
    {
     "name": "stdout",
     "output_type": "stream",
     "text": [
      "---------STEP-24---------\n"
     ]
    },
    {
     "data": {
      "image/png": "[encoded data removed]",
      "text/plain": [
       "<PIL.Image.Image image mode=RGB size=200x200 at 0x10864C5B0>"
      ]
     },
     "metadata": {},
     "output_type": "display_data"
    },
    {
     "name": "stdout",
     "output_type": "stream",
     "text": [
      "---------STEP-25---------\n"
     ]
    },
    {
     "data": {
      "image/png": "[encoded data removed]",
      "text/plain": [
       "<PIL.Image.Image image mode=RGB size=200x200 at 0x10864E8E0>"
      ]
     },
     "metadata": {},
     "output_type": "display_data"
    },
    {
     "name": "stdout",
     "output_type": "stream",
     "text": [
      "---------STEP-26---------\n"
     ]
    },
    {
     "data": {
      "image/png": "[encoded data removed]",
      "text/plain": [
       "<PIL.Image.Image image mode=RGB size=200x200 at 0x10871E4C0>"
      ]
     },
     "metadata": {},
     "output_type": "display_data"
    },
    {
     "name": "stdout",
     "output_type": "stream",
     "text": [
      "---------STEP-27---------\n"
     ]
    },
    {
     "data": {
      "image/png": "[encoded data removed]",
      "text/plain": [
       "<PIL.Image.Image image mode=RGB size=200x200 at 0x10864E910>"
      ]
     },
     "metadata": {},
     "output_type": "display_data"
    },
    {
     "name": "stdout",
     "output_type": "stream",
     "text": [
      "---------STEP-28---------\n"
     ]
    },
    {
     "data": {
      "image/png": "[encoded data removed]",
      "text/plain": [
       "<PIL.Image.Image image mode=RGB size=200x200 at 0x10864E8E0>"
      ]
     },
     "metadata": {},
     "output_type": "display_data"
    },
    {
     "name": "stdout",
     "output_type": "stream",
     "text": [
      "---------STEP-29---------\n"
     ]
    },
    {
     "data": {
      "image/png": "[encoded data removed]",
      "text/plain": [
       "<PIL.Image.Image image mode=RGB size=200x200 at 0x108A0F610>"
      ]
     },
     "metadata": {},
     "output_type": "display_data"
    }
   ],
   "source": [
    "# learning with traffic...\n",
    "\n",
    "def reinforcement_q_visual_tr(alpha, gamma):\n",
    "    # give constants\n",
    "    size = 20 # size of the canvas/coordination system\n",
    "    start_position = (19, 7) # start agent from this position\n",
    "    target_position = (1, 7) # give target location to park\n",
    "    parking_lot_coor = [[1, 12], [9, 12], [8, 7], [1, 7]] # give all empty parking space location #it should include the target\n",
    "\n",
    "    # initialize environment\n",
    "    field = Field_4_tr(size, start_position, target_position, parking_lot_coor)\n",
    "\n",
    "    # create number of states according to size\n",
    "    number_of_states = field.get_number_of_states()\n",
    "    number_of_actions = 5  # it's certain # left, right, up, down, park\n",
    "\n",
    "    # create empty q table\n",
    "    q_table = np.zeros((number_of_states, number_of_actions))\n",
    "\n",
    "    # determine hyperparameter\n",
    "    alpha = alpha # parameter to tune\n",
    "    gamma = gamma # parameter to tune\n",
    "    epsilon = 1 # start epsilon from 1\n",
    "    max_epsilon = 1\n",
    "    min_epsilon = 0.01\n",
    "    decay = 0.01  # use decay to balance exploration and exploitation\n",
    "\n",
    "    # give number of episodes\n",
    "    train_episodes = 1000\n",
    "\n",
    "    # keep the metrics to evaluate learning process\n",
    "    steps = [] # keep number of steps\n",
    "    target_or_not = [] # keep info of if the agent finds the target or park another location\n",
    "    training_rewards = [] # keep rewards\n",
    "\n",
    "    for episode in range(train_episodes):\n",
    "\n",
    "        # initialize env in the learning loop\n",
    "        field = Field_4_tr(size, start_position, target_position, parking_lot_coor)\n",
    "        done = False # to finish the episode\n",
    "\n",
    "        step = 0\n",
    "        total_training_rewards = 0\n",
    "        \n",
    "        while not done:  # if done is true, finish the episode\n",
    "            state = field.get_state() # start with learning state of the agent\n",
    "\n",
    "            if random.uniform(0, 1) > epsilon:  # explore or exploit\n",
    "                action = np.argmax(q_table[state])  # exploit\n",
    "            else:\n",
    "                action = random.randint(0, 4)  # explore\n",
    "\n",
    "            reward, done = field.make_action(action)  # position can be change\n",
    "\n",
    "            total_training_rewards += reward # sum rewards\n",
    "\n",
    "            new_state = field.get_state()  # enter new state according to new position\n",
    "            new_state_max = np.max(q_table[new_state]) # learn which q value is max for the next state to calculate q value\n",
    "\n",
    "            # update q table\n",
    "            q_table[state, action] = (1 - alpha) * q_table[state, action] + alpha * (\n",
    "                        reward + gamma * new_state_max - q_table[state, action])\n",
    "\n",
    "            step = step + 1 # increase step value\n",
    "\n",
    "            # to learn the parking location whether is the target location or not\n",
    "            target_tf = False\n",
    "            if field.position == field.target_position:\n",
    "                target_tf = True\n",
    "\n",
    "            end_location = field.position # keep end location of this state to trace the\n",
    "\n",
    "            #if step%10==0:\n",
    "            if episode == train_episodes-1:\n",
    "                print(f\"---------STEP-{step}---------\")\n",
    "                draw_area(start_position, target_position, parking_lot_coor, field.position)\n",
    "\n",
    "        # cut down on exploration by reducing the epsilon\n",
    "        epsilon = min_epsilon + (max_epsilon - min_epsilon) * np.exp(-decay * episode)\n",
    "\n",
    "        # append all values of episodes to their list\n",
    "        steps.append(step)\n",
    "        target_or_not.append(target_tf)\n",
    "        training_rewards.append(total_training_rewards)\n",
    "\n",
    "    return np.mean(steps), np.mean(training_rewards), steps, target_or_not\n",
    "\n",
    "avg_steps, avg_rewards, steps, target_or_not = reinforcement_q_visual_tr(alpha=0.1, gamma=0.6)\n",
    "\n"
   ]
  },
  {
   "cell_type": "markdown",
   "metadata": {},
   "source": [
    "**ENJOY !**"
   ]
  }
 ],
 "metadata": {
  "kernelspec": {
   "display_name": "Python 3 (ipykernel)",
   "language": "python",
   "name": "python3"
  },
  "language_info": {
   "codemirror_mode": {
    "name": "ipython",
    "version": 3
   },
   "file_extension": ".py",
   "mimetype": "text/x-python",
   "name": "python",
   "nbconvert_exporter": "python",
   "pygments_lexer": "ipython3",
   "version": "3.9.12"
  }
 },
 "nbformat": 4,
 "nbformat_minor": 1
}
